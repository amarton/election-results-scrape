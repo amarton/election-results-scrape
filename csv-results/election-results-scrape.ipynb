{
 "cells": [
  {
   "cell_type": "code",
   "execution_count": 9,
   "id": "6b872307-217b-4aa6-a971-78c4dd619cce",
   "metadata": {},
   "outputs": [
    {
     "name": "stdout",
     "output_type": "stream",
     "text": [
      "Requirement already satisfied: selenium in /opt/homebrew/lib/python3.10/site-packages (4.5.0)\n",
      "Requirement already satisfied: urllib3[socks]~=1.26 in /opt/homebrew/lib/python3.10/site-packages (from selenium) (1.26.12)\n",
      "Requirement already satisfied: certifi>=2021.10.8 in /opt/homebrew/lib/python3.10/site-packages (from selenium) (2022.9.24)\n",
      "Requirement already satisfied: trio~=0.17 in /opt/homebrew/lib/python3.10/site-packages (from selenium) (0.22.0)\n",
      "Requirement already satisfied: trio-websocket~=0.9 in /opt/homebrew/lib/python3.10/site-packages (from selenium) (0.9.2)\n",
      "Requirement already satisfied: idna in /opt/homebrew/lib/python3.10/site-packages (from trio~=0.17->selenium) (3.4)\n",
      "Requirement already satisfied: sortedcontainers in /opt/homebrew/lib/python3.10/site-packages (from trio~=0.17->selenium) (2.4.0)\n",
      "Requirement already satisfied: attrs>=19.2.0 in /opt/homebrew/lib/python3.10/site-packages (from trio~=0.17->selenium) (22.1.0)\n",
      "Requirement already satisfied: outcome in /opt/homebrew/lib/python3.10/site-packages (from trio~=0.17->selenium) (1.2.0)\n",
      "Requirement already satisfied: sniffio in /opt/homebrew/lib/python3.10/site-packages (from trio~=0.17->selenium) (1.3.0)\n",
      "Requirement already satisfied: exceptiongroup>=1.0.0rc9 in /opt/homebrew/lib/python3.10/site-packages (from trio~=0.17->selenium) (1.0.0)\n",
      "Requirement already satisfied: async-generator>=1.9 in /opt/homebrew/lib/python3.10/site-packages (from trio~=0.17->selenium) (1.10)\n",
      "Requirement already satisfied: wsproto>=0.14 in /opt/homebrew/lib/python3.10/site-packages (from trio-websocket~=0.9->selenium) (1.2.0)\n",
      "Requirement already satisfied: PySocks!=1.5.7,<2.0,>=1.5.6 in /opt/homebrew/lib/python3.10/site-packages (from urllib3[socks]~=1.26->selenium) (1.7.1)\n",
      "Requirement already satisfied: h11<1,>=0.9.0 in /opt/homebrew/lib/python3.10/site-packages (from wsproto>=0.14->trio-websocket~=0.9->selenium) (0.14.0)\n"
     ]
    }
   ],
   "source": [
    "#install package\n",
    "\n",
    "! pip install selenium"
   ]
  },
  {
   "cell_type": "code",
   "execution_count": 10,
   "id": "610f2751-4b65-45ac-a222-5141c0eebfbb",
   "metadata": {},
   "outputs": [
    {
     "name": "stdout",
     "output_type": "stream",
     "text": [
      "Requirement already satisfied: webdriver-manager in /opt/homebrew/Cellar/jupyterlab/3.4.7/libexec/lib/python3.10/site-packages (3.8.4)\n",
      "Requirement already satisfied: requests in /opt/homebrew/Cellar/jupyterlab/3.4.7/libexec/lib/python3.10/site-packages (from webdriver-manager) (2.28.1)\n",
      "Requirement already satisfied: tqdm in /opt/homebrew/Cellar/jupyterlab/3.4.7/libexec/lib/python3.10/site-packages (from webdriver-manager) (4.64.1)\n",
      "Requirement already satisfied: python-dotenv in /opt/homebrew/Cellar/jupyterlab/3.4.7/libexec/lib/python3.10/site-packages (from webdriver-manager) (0.21.0)\n",
      "Requirement already satisfied: idna<4,>=2.5 in /opt/homebrew/Cellar/jupyterlab/3.4.7/libexec/lib/python3.10/site-packages (from requests->webdriver-manager) (3.4)\n",
      "Requirement already satisfied: certifi>=2017.4.17 in /opt/homebrew/Cellar/jupyterlab/3.4.7/libexec/lib/python3.10/site-packages (from requests->webdriver-manager) (2022.6.15.2)\n",
      "Requirement already satisfied: urllib3<1.27,>=1.21.1 in /opt/homebrew/Cellar/jupyterlab/3.4.7/libexec/lib/python3.10/site-packages (from requests->webdriver-manager) (1.26.12)\n",
      "Requirement already satisfied: charset-normalizer<3,>=2 in /opt/homebrew/Cellar/jupyterlab/3.4.7/libexec/lib/python3.10/site-packages (from requests->webdriver-manager) (2.1.1)\n",
      "\n",
      "\u001b[1m[\u001b[0m\u001b[34;49mnotice\u001b[0m\u001b[1;39;49m]\u001b[0m\u001b[39;49m A new release of pip available: \u001b[0m\u001b[31;49m22.2.2\u001b[0m\u001b[39;49m -> \u001b[0m\u001b[32;49m22.3\u001b[0m\n",
      "\u001b[1m[\u001b[0m\u001b[34;49mnotice\u001b[0m\u001b[1;39;49m]\u001b[0m\u001b[39;49m To update, run: \u001b[0m\u001b[32;49mpython3.10 -m pip install --upgrade pip\u001b[0m\n",
      "Note: you may need to restart the kernel to use updated packages.\n"
     ]
    }
   ],
   "source": [
    "pip install webdriver-manager"
   ]
  },
  {
   "cell_type": "code",
   "execution_count": 11,
   "id": "74f1f35d-bfa0-4cff-9b93-b40e0b328b2a",
   "metadata": {},
   "outputs": [],
   "source": [
    "from selenium import webdriver\n",
    "from selenium.webdriver.firefox.service import Service\n",
    "from webdriver_manager.firefox import GeckoDriverManager\n",
    "from selenium.webdriver.support.ui import WebDriverWait\n",
    "from selenium.webdriver.support.ui import Select\n",
    "from selenium.webdriver.common.by import By\n",
    "from selenium.webdriver.firefox.options import Options\n",
    "\n",
    "#import beautiful soup plus\n",
    "import requests # allow you to send HTTP requests\n",
    "from bs4 import BeautifulSoup # allows you to parse\n",
    "import time  # allows you to do things with dates\n",
    "import csv #allows you to save csv\n",
    "import pandas as pd"
   ]
  },
  {
   "cell_type": "code",
   "execution_count": 12,
   "id": "3cfbfea7-fc2d-4392-82e5-c304fb265745",
   "metadata": {},
   "outputs": [],
   "source": [
    "#call the webdriver browser \n",
    "\n",
    "options = Options()\n",
    "options.headless = True\n",
    "driver = webdriver.Firefox(options=options)\n",
    "\n",
    "\n",
    "#open a webpage\n",
    "driver.get('https://elections.maryland.gov/elections/2022/primary_results/gen_results_2022_1.html')\n",
    "\n",
    "# Wait a few seconds for load\n",
    "WebDriverWait(driver, 20)\n",
    "\n",
    "\n",
    "# find element\n",
    "results = driver.find_elements(by=By.CSS_SELECTOR, value=\"#primary_right_col\")\n",
    "\n"
   ]
  },
  {
   "cell_type": "code",
   "execution_count": 13,
   "id": "69d1b784-acb1-4a0f-96b3-f431bc7a2f82",
   "metadata": {},
   "outputs": [],
   "source": [
    "# create empty array to store data for first candidate\n",
    "data = []\n",
    "\n",
    "for result in results:\n",
    "    #find the headline from the alert\n",
    "    name = result.find_element(By.XPATH, \"/html/body/div/div[2]/div[4]/div/div[2]/div/div[8]/table/tbody/tr/td[1]\").text\n",
    "    #find the description from the alert\n",
    "    votes = result.find_element(By.XPATH, \"/html/body/div/div[2]/div[4]/div/div[2]/div/div[8]/table/tbody/tr/td[6]\").text\n",
    "    # append dict to array\n",
    "    data.append({\"name\" : name, \"total-votes\" : votes})"
   ]
  },
  {
   "cell_type": "code",
   "execution_count": 14,
   "id": "3b61edcb-c232-43ec-9b1a-171f33d3b05d",
   "metadata": {},
   "outputs": [],
   "source": [
    "# create empty array to store data for second candidate\n",
    "data2 = []\n",
    "\n",
    "for result in results:\n",
    "    #find the headline from the alert\n",
    "    name = result.find_element(By.XPATH, \"/html/body/div/div[2]/div[4]/div/div[2]/div/div[10]/table/tbody/tr[9]/td[1]\").text\n",
    "    #find the description from the alert\n",
    "    votes = result.find_element(By.XPATH, \"/html/body/div/div[2]/div[4]/div/div[2]/div/div[10]/table/tbody/tr[9]/td[6]\").text\n",
    "    # append dict to array\n",
    "    data2.append({\"alert\" : name, \"description\" : votes})"
   ]
  },
  {
   "cell_type": "code",
   "execution_count": 15,
   "id": "8f91347e-4846-4456-8b2d-389c8e657e7a",
   "metadata": {},
   "outputs": [
    {
     "name": "stdout",
     "output_type": "stream",
     "text": [
      "                              name total-votes\n",
      "0  Dan Cox and Gordana Schifanelli     153,423\n",
      "                        alert description\n",
      "0  Wes Moore and Aruna Miller     217,524\n"
     ]
    }
   ],
   "source": [
    "# close driver \n",
    "driver.quit()\n",
    "\n",
    "# save to pandas dataframe for first candidate\n",
    "df = pd.DataFrame(data)\n",
    "print(df)\n",
    "\n",
    "# for second candidate\n",
    "df2 = pd.DataFrame(data2)\n",
    "print(df2)"
   ]
  },
  {
   "cell_type": "code",
   "execution_count": 16,
   "id": "6ba5379a-5596-4350-a660-f1ee3151567e",
   "metadata": {},
   "outputs": [],
   "source": [
    "# write first candidate to csv\n",
    "df.to_csv('csv-results/election-test.csv')\n",
    "\n",
    "# append second candidate to csv\n",
    "df2.to_csv('csv-results/election-test.csv', mode='a', header=False)"
   ]
  },
  {
   "cell_type": "code",
   "execution_count": null,
   "id": "71a55797-2aa3-467f-843e-4e2f76470070",
   "metadata": {},
   "outputs": [],
   "source": []
  }
 ],
 "metadata": {
  "kernelspec": {
   "display_name": "Python 3 (ipykernel)",
   "language": "python",
   "name": "python3"
  },
  "language_info": {
   "codemirror_mode": {
    "name": "ipython",
    "version": 3
   },
   "file_extension": ".py",
   "mimetype": "text/x-python",
   "name": "python",
   "nbconvert_exporter": "python",
   "pygments_lexer": "ipython3",
   "version": "3.10.6"
  }
 },
 "nbformat": 4,
 "nbformat_minor": 5
}
